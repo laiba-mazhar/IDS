{
  "nbformat": 4,
  "nbformat_minor": 0,
  "metadata": {
    "colab": {
      "provenance": []
    },
    "kernelspec": {
      "name": "python3",
      "display_name": "Python 3"
    },
    "language_info": {
      "name": "python"
    }
  },
  "cells": [
    {
      "cell_type": "markdown",
      "source": [
        "# You will use this Notebook for your assignment. Make sure to add comments as they also carry marks.\n"
      ],
      "metadata": {
        "id": "1P5K9upiu-Wd"
      }
    },
    {
      "cell_type": "markdown",
      "source": [
        "#Question 1"
      ],
      "metadata": {
        "id": "eyaRwq8xvHEL"
      }
    },
    {
      "cell_type": "code",
      "source": [
        "print(\"\\nFROZEN YOGURT AND ICE-CREAM SHOP\")\n",
        "print(\"FROZEN YOGURT            ICE-CREAM\")\n",
        "print(\"______________________    _________________________\")\n",
        "print(\"| SMALL                |  | SMALL                  |\")\n",
        "print(\"| 1: CONE - $3.09      |  | 4: CONE - $3.49        |\")\n",
        "print(\"| 2: CUP  - $3.19      |  | 5: CUP  - $3.59        |\")\n",
        "print(\"| MEDIUM               |  | MEDIUM                 |\")\n",
        "print(\"| 3: CONE - $3.89      |  | 6: CONE - $4.49        |\")\n",
        "print(\"| 7: CUP  - $3.99      |  | 8: CUP  - $4.59        |\")\n",
        "print(\"| LARGE                |  | LARGE                  |\")\n",
        "print(\"| 9: CONE - $4.69      |  | 10: CONE - $5.49       |\")\n",
        "print(\"| 11: CUP - $4.79      |  | 12: CUP - $5.59       |\")\n",
        "print(\"|______________________|  |________________________|\")\n",
        "\n",
        "print(\"\\nCOOKIES\")\n",
        "print(\"REGULAR                LARGE\")\n",
        "print(\"(2 PIECES)             (4 PIECES)\")\n",
        "print(\"13: RAISIN - $1.49     14: RAISIN - $2.49\")\n",
        "print(\"15: CHOCOLATE - $1.59  16: CHOCOLATE - $2.59\")\n",
        "\n",
        "print(\"\\nTOPPINGS\")\n",
        "print(\"17: GUMMIES - $1.59\")\n",
        "print(\"18: NUTS    - $1.89\")\n",
        "\n",
        "print(\"\\nWEEKEND SPECIAL\")\n",
        "print(\"GET 20% OFF ON YOUR WHOLE ORDER!\")\n",
        "\n",
        "total_frozen_yogurt = 0\n",
        "total_ice_cream = 0\n",
        "customer_totals = {}\n",
        "\n",
        "while True:\n",
        "    Q = input(\"\\nEnter Q to QUIT the Program / Enter C to CONTINUE the Program: \").upper()\n",
        "    if Q == 'Q':\n",
        "        break\n",
        "\n",
        "    if Q != 'C':\n",
        "        print(\"Invalid choice. Please enter Q or C.\")\n",
        "        continue\n",
        "\n",
        "    # NAME\n",
        "    name = input(\"\\nPlease enter your name: \")\n",
        "\n",
        "    # FROZEN YOGURT OR ICE CREAM\n",
        "    print(\"\\nDo you want Frozen Yogurt or Ice Cream?\")\n",
        "    print(\"Press 1 for Frozen Yogurt and 2 for Ice Cream:\")\n",
        "    opt = input(\"Enter your choice: \")\n",
        "\n",
        "    while opt not in ['1', '2']:\n",
        "        print(\"Invalid input. Please try again.\")\n",
        "        opt = input(\"Press 1 for Frozen Yogurt and 2 for Ice Cream: \")\n",
        "\n",
        "    opt = int(opt)\n",
        "\n",
        "    if opt == 1:  # Frozen Yogurt\n",
        "        print(\"\\nFrozen Yogurt Menu:\")\n",
        "        print(\"What size?\")\n",
        "        print(\"Press 1 for Small, 2 for Medium, and 3 for Large\")\n",
        "        size = input(\"Enter your choice: \")\n",
        "\n",
        "        while size not in ['1', '2', '3']:\n",
        "            print(\"Invalid input. Please try again.\")\n",
        "            size = input(\"Press 1 for Small, 2 for Medium, and 3 for Large: \")\n",
        "\n",
        "        size = int(size)\n",
        "\n",
        "        print(\"\\nWhat kind of container?\")\n",
        "        print(\"Press 1 for Cone and 2 for Cup\")\n",
        "        container = input(\"Enter your choice: \")\n",
        "\n",
        "        while container not in ['1', '2']:\n",
        "            print(\"Invalid input. Please try again.\")\n",
        "            container = input(\"Press 1 for Cone and 2 for Cup: \")\n",
        "\n",
        "        container = int(container)\n",
        "\n",
        "        if size == 1:\n",
        "            if container == 2:\n",
        "                total_amount = 3.19\n",
        "            else:\n",
        "                total_amount = 3.09\n",
        "        elif size == 2:\n",
        "            if container == 2:\n",
        "                total_amount = 3.99\n",
        "            else:\n",
        "                total_amount = 3.89\n",
        "        elif size == 3:\n",
        "            if container == 2:\n",
        "                total_amount = 4.79\n",
        "            else:\n",
        "                total_amount = 4.69\n",
        "\n",
        "        # TOPPINGS\n",
        "        print(\"\\nDo you want to add toppings?\")\n",
        "        print(\"Press 1 for Yes and 2 for No\")\n",
        "        topping_choice = input(\"Enter your choice: \")\n",
        "\n",
        "        while topping_choice not in ['1', '2']:\n",
        "            print(\"Invalid input. Please try again.\")\n",
        "            topping_choice = input(\"Press 1 for Yes and 2 for No: \")\n",
        "\n",
        "        topping_choice = int(topping_choice)\n",
        "\n",
        "        if topping_choice == 1:\n",
        "            print(\"\\nToppings Menu:\")\n",
        "            print(\"Press 1 for GUMMIES and 2 for NUTS\")\n",
        "            toppings = input(\"Enter your choice: \")\n",
        "\n",
        "            while toppings not in ['1', '2']:\n",
        "                print(\"Invalid input. Please try again.\")\n",
        "                toppings = input(\"Press 1 for GUMMIES and 2 for NUTS: \")\n",
        "\n",
        "            toppings = int(toppings)\n",
        "\n",
        "            if toppings == 1:\n",
        "                total_amount += 1.59\n",
        "            elif toppings == 2:\n",
        "                total_amount += 1.89\n",
        "\n",
        "        # COOKIES\n",
        "        print(\"\\nDo you want to add cookies?\")\n",
        "        print(\"Press 1 for Yes and 2 for No\")\n",
        "        cookies_choice = input(\"Enter your choice: \")\n",
        "\n",
        "        while cookies_choice not in ['1', '2']:\n",
        "            print(\"Invalid input. Please try again.\")\n",
        "            cookies_choice = input(\"Press 1 for Yes and 2 for No: \")\n",
        "\n",
        "        cookies_choice = int(cookies_choice)\n",
        "\n",
        "        if cookies_choice == 1:\n",
        "            print(\"\\nCookies Menu:\")\n",
        "            print(\"Press 1 for Raisin and 2 for Chocolate\")\n",
        "            cookies = input(\"Enter your choice: \")\n",
        "\n",
        "            while cookies not in ['1', '2']:\n",
        "                print(\"Invalid input. Please try again.\")\n",
        "                cookies = input(\"Press 1 for Raisin and 2 for Chocolate: \")\n",
        "\n",
        "            cookies = int(cookies)\n",
        "\n",
        "            print(\"And the size?\")\n",
        "            print(\"Press 1 for Regular and 2 for Large\")\n",
        "            cookies_size = input(\"Enter your choice: \")\n",
        "\n",
        "            while cookies_size not in ['1', '2']:\n",
        "                print(\"Invalid input. Please try again.\")\n",
        "                cookies_size = input(\"Press 1 for Regular and 2 for Large: \")\n",
        "\n",
        "            cookies_size = int(cookies_size)\n",
        "\n",
        "            if cookies_size == 1:\n",
        "                if cookies == 1:\n",
        "                    total_amount += 1.49\n",
        "                elif cookies == 2:\n",
        "                    total_amount += 1.59\n",
        "            elif cookies_size == 2:\n",
        "                if cookies == 1:\n",
        "                    total_amount += 2.49\n",
        "                elif cookies == 2:\n",
        "                    total_amount += 2.59\n",
        "\n",
        "        # DAY OF WEEK\n",
        "        print(\"\\nWhat day of the week is this?\")\n",
        "        print(\"1: Monday, 2: Tuesday, 3: Wednesday, 4: Thursday, 5: Friday, 6: Saturday, 7: Sunday\")\n",
        "        day_of_week = input(\"Enter your choice: \")\n",
        "\n",
        "        while day_of_week not in ['1', '2', '3', '4', '5', '6', '7']:\n",
        "            print(\"Invalid input. Please try again.\")\n",
        "            day_of_week = input(\"1: Monday, 2: Tuesday, 3: Wednesday, 4: Thursday, 5: Friday, 6: Saturday, 7: Sunday: \")\n",
        "\n",
        "        day_of_week = int(day_of_week)\n",
        "\n",
        "        if day_of_week in [6, 7]:\n",
        "            discount_percentage = total_amount * 0.20\n",
        "            total_amount -= discount_percentage\n",
        "            print(\"Your total amount with the 20% discount is: \", total_amount)\n",
        "\n",
        "        total_frozen_yogurt += total_amount\n",
        "\n",
        "    elif opt == 2:  # Ice Cream\n",
        "        print(\"\\nIce Cream Menu:\")\n",
        "        print(\"What size?\")\n",
        "        print(\"Press 1 for Small, 2 for Medium, and 3 for Large\")\n",
        "        size = input(\"Enter your choice: \")\n",
        "\n",
        "        while size not in ['1', '2', '3']:\n",
        "            print(\"Invalid input. Please try again.\")\n",
        "            size = input(\"Press 1 for Small, 2 for Medium, and 3 for Large: \")\n",
        "\n",
        "        size = int(size)\n",
        "\n",
        "        print(\"\\nWhat kind of container?\")\n",
        "        print(\"Press 1 for Cone and 2 for Cup\")\n",
        "        container = input(\"Enter your choice: \")\n",
        "\n",
        "        while container not in ['1', '2']:\n",
        "            print(\"Invalid input. Please try again.\")\n",
        "            container = input(\"Press 1 for Cone and 2 for Cup: \")\n",
        "\n",
        "        container = int(container)\n",
        "\n",
        "        if size == 1:\n",
        "            if container == 2:\n",
        "                total_amount = 3.59\n",
        "            else:\n",
        "                total_amount = 3.49\n",
        "        elif size == 2:\n",
        "            if container == 2:\n",
        "                total_amount = 4.59\n",
        "            else:\n",
        "                total_amount = 4.49\n",
        "        elif size == 3:\n",
        "            if container == 2:\n",
        "                total_amount = 5.59\n",
        "            else:\n",
        "                total_amount = 5.49\n",
        "\n",
        "        # TOPPINGS\n",
        "        print(\"\\nDo you want to add toppings?\")\n",
        "        print(\"Press 1 for Yes and 2 for No\")\n",
        "        toppings_choice = input(\"Enter your choice: \")\n",
        "\n",
        "        while toppings_choice not in ['1', '2']:\n",
        "            print(\"Invalid input. Please try again.\")\n",
        "            toppings_choice = input(\"Press 1 for Yes and 2 for No: \")\n",
        "\n",
        "        toppings_choice = int(toppings_choice)\n",
        "\n",
        "        if toppings_choice == 1:\n",
        "            print(\"\\nToppings Menu:\")\n",
        "            print(\"Press 1 for GUMMIES and 2 for NUTS\")\n",
        "            toppings = input(\"Enter your choice: \")\n",
        "\n",
        "            while toppings not in ['1', '2']:\n",
        "                print(\"Invalid input. Please try again.\")\n",
        "                toppings = input(\"Press 1 for GUMMIES and 2 for NUTS: \")\n",
        "\n",
        "            toppings = int(toppings)\n",
        "\n",
        "            if toppings == 1:\n",
        "                total_amount += 1.59\n",
        "            elif toppings == 2:\n",
        "                total_amount += 1.89\n",
        "\n",
        "        # COOKIES\n",
        "        print(\"\\nDo you want to add cookies?\")\n",
        "        print(\"Press 1 for Yes and 2 for No\")\n",
        "        cookies_choice = input(\"Enter your choice: \")\n",
        "\n",
        "        while cookies_choice not in ['1', '2']:\n",
        "            print(\"Invalid input. Please try again.\")\n",
        "            cookies_choice = input(\"Press 1 for Yes and 2 for No: \")\n",
        "\n",
        "        cookies_choice = int(cookies_choice)\n",
        "\n",
        "        if cookies_choice == 1:\n",
        "            print(\"\\nCookies Menu:\")\n",
        "            print(\"Press 1 for Raisin and 2 for Chocolate\")\n",
        "            cookies = input(\"Enter your choice: \")\n",
        "\n",
        "            while cookies not in ['1', '2']:\n",
        "                print(\"Invalid input. Please try again.\")\n",
        "                cookies = input(\"Press 1 for Raisin and 2 for Chocolate: \")\n",
        "\n",
        "            cookies = int(cookies)\n",
        "\n",
        "            print(\"And the size?\")\n",
        "            print(\"Press 1 for Regular and 2 for Large\")\n",
        "            cookies_size = input(\"Enter your choice: \")\n",
        "\n",
        "            while cookies_size not in ['1', '2']:\n",
        "                print(\"Invalid input. Please try again.\")\n",
        "                cookies_size = input(\"Press 1 for Regular and 2 for Large: \")\n",
        "\n",
        "            cookies_size = int(cookies_size)\n",
        "\n",
        "            if cookies_size == 1:\n",
        "                if cookies == 1:\n",
        "                    total_amount += 1.49\n",
        "                elif cookies == 2:\n",
        "                    total_amount += 1.59\n",
        "            elif cookies_size == 2:\n",
        "                if cookies == 1:\n",
        "                    total_amount += 2.49\n",
        "                elif cookies == 2:\n",
        "                    total_amount += 2.59\n",
        "\n",
        "        # DAY OF WEEK\n",
        "        print(\"\\nWhat day of the week is this?\")\n",
        "        print(\"1: Monday, 2: Tuesday, 3: Wednesday, 4: Thursday, 5: Friday, 6: Saturday, 7: Sunday\")\n",
        "        day_of_week = input(\"Enter your choice: \")\n",
        "\n",
        "        while day_of_week not in ['1', '2', '3', '4', '5', '6', '7']:\n",
        "            print(\"Invalid input. Please try again.\")\n",
        "            day_of_week = input(\"1: Monday, 2: Tuesday, 3: Wednesday, 4: Thursday, 5: Friday, 6: Saturday, 7: Sunday: \")\n",
        "\n",
        "        day_of_week = int(day_of_week)\n",
        "\n",
        "        if day_of_week in [6, 7]:\n",
        "            discount_percentage = total_amount * 0.20\n",
        "            total_amount -= discount_percentage\n",
        "            print(\"Your total amount with the 20% discount is: \", total_amount)\n",
        "\n",
        "        total_ice_cream += total_amount\n",
        "\n",
        "    else:\n",
        "        print(\"Invalid choice. Please choose 1 for Frozen Yogurt or 2 for Ice Cream.\")\n",
        "        continue\n",
        "\n",
        "    if name in customer_totals:\n",
        "        customer_totals[name] += total_amount\n",
        "    else:\n",
        "        customer_totals[name] = total_amount\n",
        "\n",
        "# Print the grand totals for Frozen Yogurt and Ice Cream\n",
        "print(\"\\nCustomer Report:\")\n",
        "print(\"Grand Total for Frozen Yogurt: \",total_frozen_yogurt)\n",
        "print(\"Grand Total for Ice Cream: \", total_ice_cream)\n",
        "for values,keys in customer_totals.items():\n",
        "    print(\"Customer = {} , Total = {}\".format(values,keys))\n"
      ],
      "metadata": {
        "id": "WePnOykNu9Qz",
        "colab": {
          "base_uri": "https://localhost:8080/"
        },
        "outputId": "899435c8-598c-468a-bf60-9beefa806c81"
      },
      "execution_count": 2,
      "outputs": [
        {
          "output_type": "stream",
          "name": "stdout",
          "text": [
            "\n",
            "FROZEN YOGURT AND ICE-CREAM SHOP\n",
            "FROZEN YOGURT            ICE-CREAM\n",
            "______________________    _________________________\n",
            "| SMALL                |  | SMALL                  |\n",
            "| 1: CONE - $3.09      |  | 4: CONE - $3.49        |\n",
            "| 2: CUP  - $3.19      |  | 5: CUP  - $3.59        |\n",
            "| MEDIUM               |  | MEDIUM                 |\n",
            "| 3: CONE - $3.89      |  | 6: CONE - $4.49        |\n",
            "| 7: CUP  - $3.99      |  | 8: CUP  - $4.59        |\n",
            "| LARGE                |  | LARGE                  |\n",
            "| 9: CONE - $4.69      |  | 10: CONE - $5.49       |\n",
            "| 11: CUP - $4.79      |  | 12: CUP - $5.59       |\n",
            "|______________________|  |________________________|\n",
            "\n",
            "COOKIES\n",
            "REGULAR                LARGE\n",
            "(2 PIECES)             (4 PIECES)\n",
            "13: RAISIN - $1.49     14: RAISIN - $2.49\n",
            "15: CHOCOLATE - $1.59  16: CHOCOLATE - $2.59\n",
            "\n",
            "TOPPINGS\n",
            "17: GUMMIES - $1.59\n",
            "18: NUTS    - $1.89\n",
            "\n",
            "WEEKEND SPECIAL\n",
            "GET 20% OFF ON YOUR WHOLE ORDER!\n",
            "\n",
            "Enter Q to QUIT the Program / Enter C to CONTINUE the Program: c\n",
            "\n",
            "Please enter your name: la\n",
            "\n",
            "Do you want Frozen Yogurt or Ice Cream?\n",
            "Press 1 for Frozen Yogurt and 2 for Ice Cream:\n",
            "Enter your choice: 1\n",
            "\n",
            "Frozen Yogurt Menu:\n",
            "What size?\n",
            "Press 1 for Small, 2 for Medium, and 3 for Large\n",
            "Enter your choice: 2\n",
            "\n",
            "What kind of container?\n",
            "Press 1 for Cone and 2 for Cup\n",
            "Enter your choice: 2\n",
            "\n",
            "Do you want to add toppings?\n",
            "Press 1 for Yes and 2 for No\n",
            "Enter your choice: 1\n",
            "\n",
            "Toppings Menu:\n",
            "Press 1 for GUMMIES and 2 for NUTS\n",
            "Enter your choice: 2\n",
            "\n",
            "Do you want to add cookies?\n",
            "Press 1 for Yes and 2 for No\n",
            "Enter your choice: 1\n",
            "\n",
            "Cookies Menu:\n",
            "Press 1 for Raisin and 2 for Chocolate\n",
            "Enter your choice: 2\n",
            "And the size?\n",
            "Press 1 for Regular and 2 for Large\n",
            "Enter your choice: 2\n",
            "\n",
            "What day of the week is this?\n",
            "1: Monday, 2: Tuesday, 3: Wednesday, 4: Thursday, 5: Friday, 6: Saturday, 7: Sunday\n",
            "Enter your choice: 6\n",
            "Your total amount with the 20% discount is:  6.775999999999999\n",
            "\n",
            "Enter Q to QUIT the Program / Enter C to CONTINUE the Program: c\n",
            "\n",
            "Please enter your name: kk\n",
            "\n",
            "Do you want Frozen Yogurt or Ice Cream?\n",
            "Press 1 for Frozen Yogurt and 2 for Ice Cream:\n",
            "Enter your choice: 1\n",
            "\n",
            "Frozen Yogurt Menu:\n",
            "What size?\n",
            "Press 1 for Small, 2 for Medium, and 3 for Large\n",
            "Enter your choice: 2\n",
            "\n",
            "What kind of container?\n",
            "Press 1 for Cone and 2 for Cup\n",
            "Enter your choice: 2\n",
            "\n",
            "Do you want to add toppings?\n",
            "Press 1 for Yes and 2 for No\n",
            "Enter your choice: 1\n",
            "\n",
            "Toppings Menu:\n",
            "Press 1 for GUMMIES and 2 for NUTS\n",
            "Enter your choice: 2\n",
            "\n",
            "Do you want to add cookies?\n",
            "Press 1 for Yes and 2 for No\n",
            "Enter your choice: 2\n",
            "\n",
            "What day of the week is this?\n",
            "1: Monday, 2: Tuesday, 3: Wednesday, 4: Thursday, 5: Friday, 6: Saturday, 7: Sunday\n",
            "Enter your choice: 7\n",
            "Your total amount with the 20% discount is:  4.704\n",
            "\n",
            "Enter Q to QUIT the Program / Enter C to CONTINUE the Program: q\n",
            "\n",
            "Customer Report:\n",
            "Grand Total for Frozen Yogurt:  11.479999999999999\n",
            "Grand Total for Ice Cream:  0\n",
            "Customer = la , Total = 6.775999999999999\n",
            "Customer = kk , Total = 4.704\n"
          ]
        }
      ]
    },
    {
      "cell_type": "markdown",
      "source": [
        "#Question 2"
      ],
      "metadata": {
        "id": "qO0SOmTkvKcy"
      }
    },
    {
      "cell_type": "code",
      "source": [
        "from PIL import Image\n",
        "import matplotlib as plt\n",
        "import numpy as np\n",
        "from IPython.display import display"
      ],
      "metadata": {
        "id": "kKEAkys3BcL-"
      },
      "execution_count": 12,
      "outputs": []
    },
    {
      "cell_type": "code",
      "source": [
        "# img = Image.open('PATH')\n",
        "img = Image.open('test.jpg')\n",
        "display(img)"
      ],
      "metadata": {
        "colab": {
          "base_uri": "https://localhost:8080/",
          "height": 565
        },
        "id": "rsIZqsnoWs3J",
        "outputId": "99ccf77f-6d73-4c46-b982-985ca42355a8"
      },
      "execution_count": 6,
      "outputs": [
        {
          "output_type": "display_data",
          "data": {
            "text/plain": [
              "<PIL.JpegImagePlugin.JpegImageFile image mode=RGB size=549x548>"
            ],
            "image/png": "[encoded data removed]"
          },
          "metadata": {}
        }
      ]
    },
    {
      "cell_type": "code",
      "source": [
        "img_array = np.array(img)\n",
        "img_array.shape"
      ],
      "metadata": {
        "colab": {
          "base_uri": "https://localhost:8080/"
        },
        "id": "73GzN0VDXFAo",
        "outputId": "638e7cb1-54f7-480b-c437-23060b28c3da"
      },
      "execution_count": 7,
      "outputs": [
        {
          "output_type": "execute_result",
          "data": {
            "text/plain": [
              "(548, 549, 3)"
            ]
          },
          "metadata": {},
          "execution_count": 7
        }
      ]
    },
    {
      "cell_type": "code",
      "source": [
        "\"\"\" The RGB Values of the first Pixel \"\"\"\n",
        "img_array[0][0]\n",
        "\"\"\" You can use the height and width variables in your code to get the rows and columns of pixels in the image \"\"\"\n",
        "height = img_array.shape[0]\n",
        "width = img_array.shape[1]\n",
        "height,width"
      ],
      "metadata": {
        "colab": {
          "base_uri": "https://localhost:8080/"
        },
        "id": "wwOFGM8mXioo",
        "outputId": "2c48263e-ef3b-41bc-9d92-0795a805eede"
      },
      "execution_count": 76,
      "outputs": [
        {
          "output_type": "execute_result",
          "data": {
            "text/plain": [
              "(548, 549)"
            ]
          },
          "metadata": {},
          "execution_count": 76
        }
      ]
    },
    {
      "cell_type": "code",
      "source": [
        "newcolor = [255, 255, 0]\n",
        "height, width, _ = img_array.shape\n",
        "for i in range(height):\n",
        "    for j in range(width):\n",
        "        color = img_array[i][j]\n",
        "        if all([value > 200 for value in color]):\n",
        "            img_array[i][j] = newcolor\n",
        "newImage = Image.fromarray(img_array)\n",
        "display(newImage)"
      ],
      "metadata": {
        "colab": {
          "base_uri": "https://localhost:8080/",
          "height": 565
        },
        "id": "Xr-bi9UeXuTa",
        "outputId": "0e5fcd1a-9cdb-4d1b-f0c4-1805411b2c0c"
      },
      "execution_count": 77,
      "outputs": [
        {
          "output_type": "display_data",
          "data": {
            "text/plain": [
              "<PIL.Image.Image image mode=RGB size=549x548>"
            ],
            "image/png": "[encoded data removed]"
          },
          "metadata": {}
        }
      ]
    },
    {
      "cell_type": "code",
      "source": [
        "threshold = 200\n",
        "color1 = [255, 255, 255]\n",
        "color2 = [255, 255, 0]\n",
        "height, width, l= img_array.shape\n",
        "for i in range(height):\n",
        "    for j in range(width):\n",
        "        if np.all(img_array[i][j] < threshold):\n",
        "            img_array[i][j] = color1\n",
        "        elif np.all(img_array[i][j] > threshold):\n",
        "            img_array[i][j] = color2\n",
        "img = Image.fromarray(img_array)\n",
        "display(img)"
      ],
      "metadata": {
        "id": "Jw7OgQZNX82o",
        "colab": {
          "base_uri": "https://localhost:8080/",
          "height": 565
        },
        "outputId": "ef0a923f-fe58-4fb7-882a-55e9da1e3511"
      },
      "execution_count": 78,
      "outputs": [
        {
          "output_type": "display_data",
          "data": {
            "text/plain": [
              "<PIL.Image.Image image mode=RGB size=549x548>"
            ],
            "image/png": "[encoded data removed]"
          },
          "metadata": {}
        }
      ]
    },
    {
      "cell_type": "markdown",
      "source": [
        "#Question 3"
      ],
      "metadata": {
        "id": "FAJjIe-hvOC5"
      }
    },
    {
      "cell_type": "code",
      "source": [
        "import pandas as pd\n",
        "# Read the CSV file into a Pandas DataFrame\n",
        "var = pd.read_csv(\"/content/eeeeeeeeeeeeeeeeeeeee.csv\")\n",
        "df = pd.DataFrame(var)\n",
        "df\n",
        "df.sort_index(inplace=True)\n",
        "\n",
        "# Display the DataFrame with sorted rows based on index\n",
        "print(\"\\nDataFrame with Sorted Rows based on Index:\")\n",
        "print(df)\n",
        "column_renaming = {\n",
        "    'index_number': 'index',\n",
        "    'the_day_you_are_targeting': 'day',\n",
        "    'room_or_lab_name': 'room',\n",
        "    'class_or_lab_time': 'time',\n",
        "    'course_or_lab_name': 'course',\n",
        "    'theory_or_lab': 'type'\n",
        "}\n",
        "\n",
        "# Rename columns based on the mapping\n",
        "df.rename(columns=column_renaming, inplace=True)\n",
        "df\n",
        "# Read the CSV file into a Pandas DataFrame\n",
        "var = pd.read_csv(\"/content/eeeeeeeeeeeeeeeeeeeee.csv\")\n",
        "df = pd.DataFrame(var)\n",
        "\n",
        "# Define the targeted day\n",
        "targeted_day = 'Monday'  # Change this to your desired day\n",
        "\n",
        "# Display the DataFrame for the targeted day\n",
        "print(\"Classes for the Targeted Day ({}):\".format(targeted_day))\n"
      ],
      "metadata": {
        "id": "3eLUC_mlvPlh",
        "colab": {
          "base_uri": "https://localhost:8080/"
        },
        "outputId": "90d81e00-2f6a-4274-b3c3-25f33ecec36c"
      },
      "execution_count": 92,
      "outputs": [
        {
          "output_type": "stream",
          "name": "stdout",
          "text": [
            "\n",
            "DataFrame with Sorted Rows based on Index:\n",
            "        Day          Time          Course Section    Type   Room\n",
            "0    Monday  03:55-05:15        Info Sec     CS-F  Theory  C-302\n",
            "1    Monday   05:20-06:40  Info Sec ReSch    CS-F  Theory  C-302\n",
            "2    Monday   08:30-09:50             PF     CS-C  Theory  C-303\n",
            "3    Monday   10:00-11:20       Calculus     CS-C  Theory  C-303\n",
            "4    Monday   11:30-01:15        Islamic     CS-C  Theory  C-303\n",
            "..      ...           ...             ...     ...     ...    ...\n",
            "205  Monday   05:10-08:05             NaN     NaN     NaN    NaN\n",
            "206  Monday   08:30-09:50             AP   (CS-B)  Theory  C-302\n",
            "207  Monday   10:00-11:20             PF     CS-B  Theory  C-302\n",
            "208  Monday   11:30-12:50       Calculus     CS-B  Theory  C-302\n",
            "209  Monday    1:30-03:50       Func Eng     CS-B  Theory  C-302\n",
            "\n",
            "[210 rows x 6 columns]\n",
            "Classes for the Targeted Day (Monday):\n"
          ]
        }
      ]
    }
  ]
}